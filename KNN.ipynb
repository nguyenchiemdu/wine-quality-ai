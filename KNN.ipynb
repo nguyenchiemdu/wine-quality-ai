{
 "cells": [
  {
   "cell_type": "markdown",
   "metadata": {},
   "source": [
    "# KNN Classifier"
   ]
  },
  {
   "cell_type": "markdown",
   "metadata": {},
   "source": [
    "**Import Lib**"
   ]
  },
  {
   "cell_type": "code",
   "execution_count": 248,
   "metadata": {},
   "outputs": [],
   "source": [
    "import pandas as pd\n",
    "import numpy as np\n",
    "from sklearn.model_selection import train_test_split\n",
    "from sklearn.ensemble import RandomForestClassifier\n",
    "from sklearn.neighbors import KNeighborsClassifier\n",
    "from sklearn.metrics import accuracy_score, classification_report\n",
    "from sklearn.preprocessing import StandardScaler,MinMaxScaler,RobustScaler\n",
    "from pandas.plotting import parallel_coordinates\n",
    "import matplotlib.pyplot as plt\n",
    "import seaborn as sns\n",
    "import pandas as pd\n",
    "from sklearn.feature_selection import SelectKBest\n",
    "from sklearn.feature_selection import chi2"
   ]
  },
  {
   "cell_type": "markdown",
   "metadata": {},
   "source": [
    "**Load the dataset**"
   ]
  },
  {
   "cell_type": "code",
   "execution_count": 249,
   "metadata": {},
   "outputs": [],
   "source": [
    "data = pd.read_csv(\"./removed_outlier.csv\")"
   ]
  },
  {
   "cell_type": "markdown",
   "metadata": {},
   "source": [
    "**Overview**"
   ]
  },
  {
   "cell_type": "code",
   "execution_count": 250,
   "metadata": {},
   "outputs": [
    {
     "data": {
      "text/html": [
       "<div>\n",
       "<style scoped>\n",
       "    .dataframe tbody tr th:only-of-type {\n",
       "        vertical-align: middle;\n",
       "    }\n",
       "\n",
       "    .dataframe tbody tr th {\n",
       "        vertical-align: top;\n",
       "    }\n",
       "\n",
       "    .dataframe thead th {\n",
       "        text-align: right;\n",
       "    }\n",
       "</style>\n",
       "<table border=\"1\" class=\"dataframe\">\n",
       "  <thead>\n",
       "    <tr style=\"text-align: right;\">\n",
       "      <th></th>\n",
       "      <th>Unnamed: 0</th>\n",
       "      <th>fixed acidity</th>\n",
       "      <th>volatile acidity</th>\n",
       "      <th>citric acid</th>\n",
       "      <th>residual sugar</th>\n",
       "      <th>chlorides</th>\n",
       "      <th>free sulfur dioxide</th>\n",
       "      <th>total sulfur dioxide</th>\n",
       "      <th>density</th>\n",
       "      <th>pH</th>\n",
       "      <th>sulphates</th>\n",
       "      <th>alcohol</th>\n",
       "      <th>quality</th>\n",
       "    </tr>\n",
       "  </thead>\n",
       "  <tbody>\n",
       "    <tr>\n",
       "      <th>0</th>\n",
       "      <td>0</td>\n",
       "      <td>7.0</td>\n",
       "      <td>0.27</td>\n",
       "      <td>0.36</td>\n",
       "      <td>20.7</td>\n",
       "      <td>0.045</td>\n",
       "      <td>45.0</td>\n",
       "      <td>170.0</td>\n",
       "      <td>1.0010</td>\n",
       "      <td>3.00</td>\n",
       "      <td>0.45</td>\n",
       "      <td>8.8</td>\n",
       "      <td>6</td>\n",
       "    </tr>\n",
       "    <tr>\n",
       "      <th>1</th>\n",
       "      <td>1</td>\n",
       "      <td>6.3</td>\n",
       "      <td>0.30</td>\n",
       "      <td>0.34</td>\n",
       "      <td>1.6</td>\n",
       "      <td>0.049</td>\n",
       "      <td>14.0</td>\n",
       "      <td>132.0</td>\n",
       "      <td>0.9940</td>\n",
       "      <td>3.30</td>\n",
       "      <td>0.49</td>\n",
       "      <td>9.5</td>\n",
       "      <td>6</td>\n",
       "    </tr>\n",
       "    <tr>\n",
       "      <th>2</th>\n",
       "      <td>2</td>\n",
       "      <td>8.1</td>\n",
       "      <td>0.28</td>\n",
       "      <td>0.40</td>\n",
       "      <td>6.9</td>\n",
       "      <td>0.050</td>\n",
       "      <td>30.0</td>\n",
       "      <td>97.0</td>\n",
       "      <td>0.9951</td>\n",
       "      <td>3.26</td>\n",
       "      <td>0.44</td>\n",
       "      <td>10.1</td>\n",
       "      <td>6</td>\n",
       "    </tr>\n",
       "    <tr>\n",
       "      <th>3</th>\n",
       "      <td>3</td>\n",
       "      <td>7.2</td>\n",
       "      <td>0.23</td>\n",
       "      <td>0.32</td>\n",
       "      <td>8.5</td>\n",
       "      <td>0.058</td>\n",
       "      <td>47.0</td>\n",
       "      <td>186.0</td>\n",
       "      <td>0.9956</td>\n",
       "      <td>3.19</td>\n",
       "      <td>0.40</td>\n",
       "      <td>9.9</td>\n",
       "      <td>6</td>\n",
       "    </tr>\n",
       "    <tr>\n",
       "      <th>4</th>\n",
       "      <td>4</td>\n",
       "      <td>7.2</td>\n",
       "      <td>0.23</td>\n",
       "      <td>0.32</td>\n",
       "      <td>8.5</td>\n",
       "      <td>0.058</td>\n",
       "      <td>47.0</td>\n",
       "      <td>186.0</td>\n",
       "      <td>0.9956</td>\n",
       "      <td>3.19</td>\n",
       "      <td>0.40</td>\n",
       "      <td>9.9</td>\n",
       "      <td>6</td>\n",
       "    </tr>\n",
       "  </tbody>\n",
       "</table>\n",
       "</div>"
      ],
      "text/plain": [
       "   Unnamed: 0  fixed acidity  volatile acidity  citric acid  residual sugar  \\\n",
       "0           0            7.0              0.27         0.36            20.7   \n",
       "1           1            6.3              0.30         0.34             1.6   \n",
       "2           2            8.1              0.28         0.40             6.9   \n",
       "3           3            7.2              0.23         0.32             8.5   \n",
       "4           4            7.2              0.23         0.32             8.5   \n",
       "\n",
       "   chlorides  free sulfur dioxide  total sulfur dioxide  density    pH  \\\n",
       "0      0.045                 45.0                 170.0   1.0010  3.00   \n",
       "1      0.049                 14.0                 132.0   0.9940  3.30   \n",
       "2      0.050                 30.0                  97.0   0.9951  3.26   \n",
       "3      0.058                 47.0                 186.0   0.9956  3.19   \n",
       "4      0.058                 47.0                 186.0   0.9956  3.19   \n",
       "\n",
       "   sulphates  alcohol  quality  \n",
       "0       0.45      8.8        6  \n",
       "1       0.49      9.5        6  \n",
       "2       0.44     10.1        6  \n",
       "3       0.40      9.9        6  \n",
       "4       0.40      9.9        6  "
      ]
     },
     "execution_count": 250,
     "metadata": {},
     "output_type": "execute_result"
    }
   ],
   "source": [
    "data.head()"
   ]
  },
  {
   "cell_type": "code",
   "execution_count": 251,
   "metadata": {},
   "outputs": [
    {
     "data": {
      "text/plain": [
       "quality\n",
       "6          1860\n",
       "5          1101\n",
       "7           792\n",
       "8           145\n",
       "4            88\n",
       "3             8\n",
       "9             4\n",
       "Name: count, dtype: int64"
      ]
     },
     "execution_count": 251,
     "metadata": {},
     "output_type": "execute_result"
    }
   ],
   "source": [
    "data.value_counts(['quality'])"
   ]
  },
  {
   "cell_type": "code",
   "execution_count": 252,
   "metadata": {},
   "outputs": [
    {
     "name": "stdout",
     "output_type": "stream",
     "text": [
      "                 Feature         Score\n",
      "0             Unnamed: 0  20604.211731\n",
      "7   total sulfur dioxide   2762.772314\n",
      "6    free sulfur dioxide    642.532669\n",
      "4         residual sugar    397.917432\n",
      "11               alcohol    113.269678\n",
      "2       volatile acidity      2.649899\n",
      "1          fixed acidity      1.189336\n",
      "5              chlorides      0.848352\n",
      "10             sulphates      0.272781\n",
      "9                     pH      0.173861\n",
      "3            citric acid      0.099409\n",
      "8                density      0.003784\n"
     ]
    }
   ],
   "source": [
    "\n",
    "\n",
    "# Separate the features (X) and the target (y)\n",
    "X = data.drop('quality', axis=1)\n",
    "y = data['quality']\n",
    "\n",
    "# Apply the SelectKBest feature selection method with chi-squared test as an example\n",
    "k = 5  # You can adjust this value based on your dataset and problem\n",
    "best_features = SelectKBest(score_func=chi2, k=k)\n",
    "fit = best_features.fit(X, y)\n",
    "\n",
    "# Get the scores and feature names\n",
    "feature_scores = pd.DataFrame({'Feature': X.columns, 'Score': fit.scores_})\n",
    "feature_scores = feature_scores.sort_values(by='Score', ascending=False)\n",
    "print(feature_scores)\n",
    "\n",
    "# Select the top k features\n",
    "selected_features = feature_scores.head(k)['Feature'].tolist()\n",
    "X_selected = X[selected_features]\n"
   ]
  },
  {
   "cell_type": "code",
   "execution_count": 253,
   "metadata": {},
   "outputs": [
    {
     "data": {
      "text/plain": [
       "quality\n",
       "6          1860\n",
       "5          1101\n",
       "7           792\n",
       "8           145\n",
       "4            88\n",
       "3             8\n",
       "9             4\n",
       "Name: count, dtype: int64"
      ]
     },
     "execution_count": 253,
     "metadata": {},
     "output_type": "execute_result"
    }
   ],
   "source": [
    "# data = data[['residual sugar', 'alcohol','density','chlorides', 'quality']]\n",
    "data.value_counts([ 'quality'])"
   ]
  },
  {
   "cell_type": "markdown",
   "metadata": {},
   "source": [
    "**Split Data**"
   ]
  },
  {
   "cell_type": "code",
   "execution_count": 254,
   "metadata": {},
   "outputs": [],
   "source": [
    "\n",
    "# Define features and target\n",
    "X = data.drop(columns=[\"quality\"])\n",
    "y = data[\"quality\"]\n",
    "# Split the data into training and testing sets\n",
    "X_train, X_test, y_train, y_test = train_test_split(X, y, test_size=0.2,stratify=y, random_state=42)\n"
   ]
  },
  {
   "cell_type": "code",
   "execution_count": 255,
   "metadata": {},
   "outputs": [],
   "source": [
    "# Standardize the features\n",
    "scaler = StandardScaler()\n",
    "X_train = scaler.fit_transform(X_train)\n",
    "X_test = scaler.transform(X_test)"
   ]
  },
  {
   "cell_type": "code",
   "execution_count": 256,
   "metadata": {},
   "outputs": [
    {
     "data": {
      "text/html": [
       "<div>\n",
       "<style scoped>\n",
       "    .dataframe tbody tr th:only-of-type {\n",
       "        vertical-align: middle;\n",
       "    }\n",
       "\n",
       "    .dataframe tbody tr th {\n",
       "        vertical-align: top;\n",
       "    }\n",
       "\n",
       "    .dataframe thead th {\n",
       "        text-align: right;\n",
       "    }\n",
       "</style>\n",
       "<table border=\"1\" class=\"dataframe\">\n",
       "  <thead>\n",
       "    <tr style=\"text-align: right;\">\n",
       "      <th></th>\n",
       "      <th>0</th>\n",
       "      <th>1</th>\n",
       "      <th>2</th>\n",
       "      <th>3</th>\n",
       "      <th>4</th>\n",
       "      <th>5</th>\n",
       "      <th>6</th>\n",
       "      <th>7</th>\n",
       "      <th>8</th>\n",
       "      <th>9</th>\n",
       "      <th>10</th>\n",
       "      <th>11</th>\n",
       "    </tr>\n",
       "  </thead>\n",
       "  <tbody>\n",
       "    <tr>\n",
       "      <th>0</th>\n",
       "      <td>1.068985</td>\n",
       "      <td>-0.146046</td>\n",
       "      <td>0.226083</td>\n",
       "      <td>0.172066</td>\n",
       "      <td>0.506056</td>\n",
       "      <td>0.567234</td>\n",
       "      <td>-0.186112</td>\n",
       "      <td>-0.636604</td>\n",
       "      <td>0.232655</td>\n",
       "      <td>0.448504</td>\n",
       "      <td>0.586200</td>\n",
       "      <td>0.350895</td>\n",
       "    </tr>\n",
       "    <tr>\n",
       "      <th>1</th>\n",
       "      <td>-0.741965</td>\n",
       "      <td>-0.973550</td>\n",
       "      <td>-0.570042</td>\n",
       "      <td>1.910482</td>\n",
       "      <td>-0.978279</td>\n",
       "      <td>0.869553</td>\n",
       "      <td>-1.112885</td>\n",
       "      <td>-1.218202</td>\n",
       "      <td>-0.368717</td>\n",
       "      <td>0.807766</td>\n",
       "      <td>-0.224248</td>\n",
       "      <td>-0.803672</td>\n",
       "    </tr>\n",
       "    <tr>\n",
       "      <th>2</th>\n",
       "      <td>-1.745149</td>\n",
       "      <td>0.267705</td>\n",
       "      <td>0.093396</td>\n",
       "      <td>0.403855</td>\n",
       "      <td>2.872968</td>\n",
       "      <td>0.264915</td>\n",
       "      <td>0.674463</td>\n",
       "      <td>0.793158</td>\n",
       "      <td>2.449138</td>\n",
       "      <td>-1.347804</td>\n",
       "      <td>-0.325554</td>\n",
       "      <td>-1.463425</td>\n",
       "    </tr>\n",
       "    <tr>\n",
       "      <th>3</th>\n",
       "      <td>0.692262</td>\n",
       "      <td>-0.008129</td>\n",
       "      <td>-1.233479</td>\n",
       "      <td>0.172066</td>\n",
       "      <td>-0.877986</td>\n",
       "      <td>-0.238950</td>\n",
       "      <td>0.211076</td>\n",
       "      <td>-0.636604</td>\n",
       "      <td>-1.330911</td>\n",
       "      <td>0.376652</td>\n",
       "      <td>-0.325554</td>\n",
       "      <td>1.917808</td>\n",
       "    </tr>\n",
       "    <tr>\n",
       "      <th>4</th>\n",
       "      <td>-0.975477</td>\n",
       "      <td>-0.421881</td>\n",
       "      <td>0.358771</td>\n",
       "      <td>-0.870984</td>\n",
       "      <td>0.847051</td>\n",
       "      <td>-0.339723</td>\n",
       "      <td>-0.186112</td>\n",
       "      <td>-0.418505</td>\n",
       "      <td>0.799662</td>\n",
       "      <td>0.879618</td>\n",
       "      <td>-1.439921</td>\n",
       "      <td>-0.391327</td>\n",
       "    </tr>\n",
       "  </tbody>\n",
       "</table>\n",
       "</div>"
      ],
      "text/plain": [
       "         0         1         2         3         4         5         6   \\\n",
       "0  1.068985 -0.146046  0.226083  0.172066  0.506056  0.567234 -0.186112   \n",
       "1 -0.741965 -0.973550 -0.570042  1.910482 -0.978279  0.869553 -1.112885   \n",
       "2 -1.745149  0.267705  0.093396  0.403855  2.872968  0.264915  0.674463   \n",
       "3  0.692262 -0.008129 -1.233479  0.172066 -0.877986 -0.238950  0.211076   \n",
       "4 -0.975477 -0.421881  0.358771 -0.870984  0.847051 -0.339723 -0.186112   \n",
       "\n",
       "         7         8         9         10        11  \n",
       "0 -0.636604  0.232655  0.448504  0.586200  0.350895  \n",
       "1 -1.218202 -0.368717  0.807766 -0.224248 -0.803672  \n",
       "2  0.793158  2.449138 -1.347804 -0.325554 -1.463425  \n",
       "3 -0.636604 -1.330911  0.376652 -0.325554  1.917808  \n",
       "4 -0.418505  0.799662  0.879618 -1.439921 -0.391327  "
      ]
     },
     "execution_count": 256,
     "metadata": {},
     "output_type": "execute_result"
    }
   ],
   "source": [
    "pd.DataFrame(X_train).head()"
   ]
  },
  {
   "cell_type": "markdown",
   "metadata": {},
   "source": [
    "**Train And Evaluate Model**"
   ]
  },
  {
   "cell_type": "code",
   "execution_count": 257,
   "metadata": {},
   "outputs": [
    {
     "name": "stdout",
     "output_type": "stream",
     "text": [
      "Accuracy: 0.57375\n"
     ]
    }
   ],
   "source": [
    "\n",
    "\n",
    "# Initialize and train the model\n",
    "model = KNeighborsClassifier()\n",
    "model.fit(X_train, y_train)\n",
    "\n",
    "# Make predictions\n",
    "y_pred = model.predict(X_test)\n",
    "\n",
    "# Evaluate the model\n",
    "accuracy = accuracy_score(y_test, y_pred)\n",
    "print(\"Accuracy:\", accuracy)"
   ]
  },
  {
   "cell_type": "markdown",
   "metadata": {},
   "source": [
    "**Train And Evaluate Model Using Repeated hold-out**"
   ]
  },
  {
   "cell_type": "code",
   "execution_count": 258,
   "metadata": {},
   "outputs": [],
   "source": [
    "# n_repeats = 10\n",
    "# test_size = 0.3\n",
    "# # Define features and target\n",
    "# X = data.drop(columns=[\"quality\"])\n",
    "# y = data[\"quality\"]\n",
    "# # Initialize a list to store performance metrics\n",
    "# accuracies = []\n",
    "# for _ in range(n_repeats):\n",
    "#     # Split the data into training and testing sets\n",
    "#     X_train, X_test, y_train, y_test = train_test_split(X, y, test_size=test_size,stratify=y, random_state=None)\n",
    "    \n",
    "#     # Create and train your machine learning model\n",
    "#     model = RandomForestClassifier()\n",
    "#     model.fit(X_train, y_train)\n",
    "    \n",
    "#     # Make predictions on the test set\n",
    "#     y_pred = model.predict(X_test)\n",
    "    \n",
    "#     # Calculate and store the accuracy\n",
    "#     accuracy = accuracy_score(y_test, y_pred)\n",
    "#     accuracies.append(accuracy)\n",
    "#     print(f\"Accuracy: {accuracy:.2f}\")\n",
    "\n",
    "# # Calculate and print the average accuracy and its standard deviation\n",
    "# avg_accuracy = sum(accuracies) / n_repeats\n",
    "# std_accuracy = np.std(accuracies)\n",
    "# print(f\"Average Accuracy: {avg_accuracy:.2f}\")\n",
    "# print(f\"Standard Deviation: {std_accuracy:.2f}\")\n",
    "\n"
   ]
  }
 ],
 "metadata": {
  "kernelspec": {
   "display_name": "Python 3",
   "language": "python",
   "name": "python3"
  },
  "language_info": {
   "codemirror_mode": {
    "name": "ipython",
    "version": 3
   },
   "file_extension": ".py",
   "mimetype": "text/x-python",
   "name": "python",
   "nbconvert_exporter": "python",
   "pygments_lexer": "ipython3",
   "version": "3.11.5"
  },
  "orig_nbformat": 4
 },
 "nbformat": 4,
 "nbformat_minor": 2
}
